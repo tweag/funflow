{
 "cells": [
  {
   "cell_type": "markdown",
   "source": [
    "# Developer's Guide\n",
    "\n",
    "`funflow` provides a few task types (`SimpleTask`, `StoreTask`, and `DockerTask`) that will suffice for many pipelines, but the package facilitates creation of new task types as needed.\n",
    "\n",
    "This tutorial aims to help prospective `funflow` developers get started with task type creation."
   ],
   "metadata": {}
  },
  {
   "cell_type": "markdown",
   "source": [
    "## 1. Creating your own task\n",
    "\n",
    "In this tutorial, we will create a task called `CustomTask` by defining its type. We will define our own flow type, and write the functions needed to to run it."
   ],
   "metadata": {}
  },
  {
   "cell_type": "markdown",
   "source": [
    "### Defining the new task\n",
    "\n",
    "To define a task for our users, we first have to define a type that represents the task.\n",
    "\n",
    "> A task is represented by a generalized algebraic data type (GADT) of kind `* -> * -> *`."
   ],
   "metadata": {}
  },
  {
   "cell_type": "code",
   "execution_count": 1,
   "source": [
    "-- Required language extensions\n",
    "{-# LANGUAGE GADTs, StandaloneDeriving #-}\n",
    "\n",
    "-- Define the representation of a custom task with some String and Int parameters\n",
    "data CustomTask i o where\n",
    "    CustomTask :: String -> Int -> CustomTask String String\n",
    "\n",
    "-- Necessary in order to display it\n",
    "deriving instance (Show i, Show o) => Show (CustomTask i o)"
   ],
   "outputs": [],
   "metadata": {}
  },
  {
   "cell_type": "markdown",
   "source": [
    "Here, we create a type `CustomTask` with type constructor `CustomTask i o`, and a value constructor `CustomTask` of type `String -> Int -> CustomTask String String`.\n",
    "\n",
    "`String -> Int -> SomeCustomTask String String` means thatby providing a `String` and an `Int`, the function will give a task that takes a `String` as input and produces a `String` as output.\n",
    "\n",
    "A new task can be created by using the value constructor:"
   ],
   "metadata": {}
  },
  {
   "cell_type": "code",
   "execution_count": 2,
   "source": [
    "-- An example of instantiation\n",
    "CustomTask \"someText\" 42"
   ],
   "outputs": [
    {
     "output_type": "display_data",
     "data": {
      "text/plain": [
       "CustomTask \"someText\" 42"
      ]
     },
     "metadata": {}
    }
   ],
   "metadata": {}
  },
  {
   "cell_type": "markdown",
   "source": [
    "However, a value created this way is a _task_, not a _flow_. To use this value in a flow, we need some more work."
   ],
   "metadata": {}
  },
  {
   "cell_type": "markdown",
   "source": [
    "### From a task to a flow\n",
    "The `Flow` type in fact comes from restricting the more general `ExtendedFlow` type, specifying a fixed collection of task types to support.\n",
    "These tasks types are those defined here in funflow: `SimpleTask`, `StoreTask`, and `DockerTask`, which are declared as `RequiredStrands` in `Funflow.Flow`.\n",
    "\n",
    "In other words, a pipeline/workflow typed specifically as `Flow` may comprise tasks of these three types (and only these three), capturing the notion that it's these types with which a `Flow` is compatible. In order to manipulate a flow that can run our _custom_ task (i.e., a value of a new task type), we need to create our own new _flow_ type using `ExtendedFlow`, which is also defined in `Funflow.Flow`:"
   ],
   "metadata": {}
  },
  {
   "cell_type": "code",
   "execution_count": 3,
   "source": [
    "{-# LANGUAGE DataKinds, RankNTypes #-}\n",
    "import Funflow.Flow (ExtendedFlow)\n",
    "\n",
    "type MyFlow input output = ExtendedFlow '[ '(\"custom\", CustomTask) ] input output"
   ],
   "outputs": [],
   "metadata": {}
  },
  {
   "cell_type": "markdown",
   "source": [
    "> Prefixing the leading bracket or parenthesis, i.e. `'[ ... ]` and `'( ... )`, denotes a _type-level_ list or tuple, respectively. This syntax is supported by the `OverloadedLabels` extension and is used to distinguish between the ordinary `[]` and `()` are _data_ constructors, building values rather than types. \n",
    "> \n",
    "> So with `'[ '(\"custom\", CustomTask) ]`, we build a type-level list of type-level tuple, \"labeling\" our custom task type with a name.\n",
    "> \n",
    "> In `kernmantle`, such a tuple is called a _strand_, and the label facilitates disambiguation among different tasks with the same type.\n",
    "\n",
    "Now that we have our own type of flow that uses our custom task, we can define how a value of our custom task should be _stranded_, using [`kernmantle`](https://github.com/tweag/kernmantle):"
   ],
   "metadata": {}
  },
  {
   "cell_type": "code",
   "execution_count": 4,
   "source": [
    "{-# LANGUAGE OverloadedLabels #-}\n",
    "import Control.Kernmantle.Rope (strand)\n",
    "\n",
    "someCustomFlow :: String -> Int -> MyFlow String String\n",
    "someCustomFlow x y = strand #custom (CustomTask x y)"
   ],
   "outputs": [],
   "metadata": {}
  },
  {
   "cell_type": "markdown",
   "source": [
    "This function is called a _smart constructor_.\n",
    "It facilitates the creation of a flow for a user without having to think about strands.\n",
    "\n",
    "The `#custom` value is a Haskell label, and must match the string label associated to our task type in the flow type definition (here `\"custom\"`)."
   ],
   "metadata": {}
  },
  {
   "cell_type": "code",
   "execution_count": 5,
   "source": [
    "myFlow :: MyFlow String String\n",
    "myFlow = someCustomFlow \"woop!\" 7"
   ],
   "outputs": [],
   "metadata": {}
  },
  {
   "cell_type": "markdown",
   "source": [
    "### Interpret a task\n",
    "\n",
    "A strength of `funflow` is separation of the _representation_ of a computation (task) from _implementation_ of that task. More concretely, once it's created a task value has fixed input and output types, but __what it _does___ is not fixed. To specify that, we write an _interpreter function_.\n",
    "\n",
    "An interpreter function is executed __before _running_ the flow__.\n",
    "It takes a value of the task type that matches a particular _strand_ (identified by the strand's label) and produces an actual implementation of the task, in compliance with the task's fixed input and output types.\n",
    "\n",
    "In our case, we could define that our custom task `CustomTask n s` appends `n` times the string `s` to the input (which is a `String`):"
   ],
   "metadata": {}
  },
  {
   "cell_type": "code",
   "execution_count": 6,
   "source": [
    "import Control.Arrow (Arrow, arr)\n",
    "\n",
    "-- Helper function that repeats a string n times\n",
    "duplicate :: String -> Int -> String\n",
    "duplicate s n = concat (replicate n s)\n",
    "\n",
    "-- Our interpreter\n",
    "interpretCustomTask :: (Arrow a) => CustomTask i o -> a i o\n",
    "interpretCustomTask customTask = case customTask of\n",
    "    CustomTask s n -> arr (\\input -> input ++ duplicate s n)"
   ],
   "outputs": [],
   "metadata": {}
  },
  {
   "cell_type": "markdown",
   "source": [
    "What happens here is:\n",
    "\n",
    "1. We get the `customTask` of our type `CustomTask`.\n",
    "2. We consider the possible values.\n",
    "   As we've defined it, `CustomTask` has only one value constructor, but in general a GADT may have multiple value constructors.\n",
    "3. Since our function is pure, we can simply wrap it inside of an `Arrow` using `arr`.\n",
    "\n",
    "`\\input -> input ++ duplicate s n` is the actual function that will be executed when running the pipeline.\n",
    "\n",
    "> In funflow, pure computation should be wrapped in a `Arrow` while IO operations should wrapped in a `Kleisli IO`.\n",
    "> \n",
    "> Wrapping in an `Arrow` is done by using `arr`, while wrapping in a `Kleisli IO` is done by using `liftKleisliIO`.\n",
    "\n",
    "`funflow`'s interpreter functions are defined in the `Funflow.Run` module and can serve as examples as you write your own interpreter functions."
   ],
   "metadata": {}
  },
  {
   "cell_type": "markdown",
   "source": [
    "### Run your custom flow\n",
    "\n",
    "Now that we have defined a way to run our task, we might as well run our pipeline!\n",
    "\n",
    "To run a pipeline typed as `Flow`, funflow provides `runFlow`. Since we've built--in order to include our custom task type--a different type of pipeline (`MyFlow`), though, in order to leverage `runFlow` we first need an additional step. We will use the `weave'` function from `kernmantle`.\n",
    "\n",
    "> In `kernmantle`, intepreting a task with a function is called _weaving_ a strand.\n",
    ">\n",
    "> There are multiple function available to weave strands (`weave`, `weave'`, `weave''`, `weaveK`).\n",
    "> Almost always, the one you want is `weave'`."
   ],
   "metadata": {}
  },
  {
   "cell_type": "code",
   "execution_count": 7,
   "source": [
    "import Control.Kernmantle.Rope ((&), weave')\n",
    "import Funflow.Flow (Flow)\n",
    "\n",
    "weaveMyFlow myFlow = myFlow & weave' #custom interpretCustomTask"
   ],
   "outputs": [],
   "metadata": {}
  },
  {
   "cell_type": "markdown",
   "source": [
    "> `kernmantle`'s `&` operator allows us to \"weave in,\"  or \"chain,\" multiple strands, e.g.:\n",
    "> ```haskell\n",
    "> weaveMyFlow myFlow = myFlow & weave' #custom1 interpretCustomTask1 & weave' #custom2 interpretCustomTask2\n",
    "> ```\n",
    "\n",
    "Now, we can run the resulting flow:"
   ],
   "metadata": {}
  },
  {
   "cell_type": "code",
   "execution_count": 9,
   "source": [
    ":opt no-lint\n",
    "import Funflow.Run (runFlow)\n",
    "\n",
    "runMyFlow :: MyFlow i o -> i -> IO o\n",
    "runMyFlow myFlow input = runFlow (weaveMyFlow myFlow) input"
   ],
   "outputs": [],
   "metadata": {}
  },
  {
   "cell_type": "code",
   "execution_count": 10,
   "source": [
    "runMyFlow myFlow \"Kangaroo goes \" :: IO String"
   ],
   "outputs": [
    {
     "output_type": "display_data",
     "data": {
      "text/plain": [
       "\"Kangaroo goes woop!woop!woop!woop!woop!woop!woop!\""
      ]
     },
     "metadata": {}
    }
   ],
   "metadata": {}
  },
  {
   "cell_type": "markdown",
   "source": [
    "> We have to specify the type of the result `IO String` because of some issues with type inference when using GADTs."
   ],
   "metadata": {}
  },
  {
   "cell_type": "markdown",
   "source": [
    "## Going further\n",
    "\n",
    "See more about `kernmantle` here: https://github.com/tweag/kernmantle"
   ],
   "metadata": {}
  }
 ],
 "metadata": {
  "kernelspec": {
   "display_name": "Haskell - haskell",
   "language": "haskell",
   "name": "ihaskell_haskell"
  },
  "language_info": {
   "codemirror_mode": "Haskell",
   "file_extension": ".hs",
   "mimetype": "text/x-haskell",
   "name": "haskell",
   "pygments_lexer": "Haskell",
   "version": "8.8.4"
  }
 },
 "nbformat": 4,
 "nbformat_minor": 4
}