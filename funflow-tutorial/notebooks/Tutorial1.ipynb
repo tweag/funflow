{
 "cells": [
  {
   "cell_type": "markdown",
   "source": [
    "# First steps with `funflow`\n",
    "\n",
    "\n",
    "## Introduction\n",
    "\n",
    "`funflow` is a Haskell library for defining and running _workflows_.\n",
    "\n",
    "A workflow specifies a pipeline of _tasks_ structured in a Direct Acyclic Graph (DAG).\n",
    "\n",
    "Workflows in `funflow` have the great property of being __composable__ which means that  you can easily share and combine components across different workflows.\n",
    "\n",
    "`funflow` supports type checking, result caching, and other features that simplify setting up your pipeline.\n",
    "\n",
    "_Let's get started_\n",
    "\n",
    "## Anatomy of a Flow\n",
    "\n",
    "The `Flow` type captures the notion of a workflow; it takes an input and produces an output:\n",
    "\n",
    "```haskell\n",
    "flow :: Flow input output\n",
    "```\n",
    "\n",
    "`input` and `output` are the types of the input and output values of the flow.\n",
    "For instance a flow working on numbers might have the following type signature:\n",
    "\n",
    "```haskell\n",
    "flow :: Flow Int Int\n",
    "```\n",
    "\n",
    "It takes an integer as input and produces an integer as its output.\n",
    "A flow that doesn't take any input can be written as:\n",
    "\n",
    "```haskell\n",
    "flow :: Flow () Int\n",
    "```\n",
    "\n",
    "Such a flow might request some user input or download some data.\n",
    "\n",
    "## Tasks\n",
    "\n",
    "A `Flow` is a DAG comprising one or more `Tasks` which describe __what__ you would like to execute.\n",
    "\n",
    "`funflow` works with a wide range of task granularities.\n",
    "A `Task` can be a simple Haskell function, a database query, a command to run in a Docker container, or more. \n",
    "\n",
    "Accordingly, `funflow` provides several task types to support these different kinds of computations.\n",
    "These `Task`s are defined in the `Funflow.Tasks` subpackage.\n",
    "Of these types, `PureTask` is the simplest and represents  a Haskell function which has _no side effects_, like reading a file or running a command.\n",
    "Other task datatypes include `IOTask`, which runs a Haskell function that can perform I/O (e.g. reading a file), and `DockerTask`, which runs a \n",
    "[Docker](https://docs.docker.com/get-docker/) container.\n",
    "\n",
    "\n",
    "## How to create a flow\n",
    "A `Flow` is most easily built either...\n",
    "1. ...with the [`toFlow` function](#to-flow), providing a task (or any value of a type with an `IsFlow` instance)\n",
    "2. ...with a [_smart constructor_](#smart-ctors), providing either a function or configuration value. Funflow provides three such smart constructors:\n",
    "    * `pureFlow`, building a flow from a non-effectful function\n",
    "    * `ioFlow`, building a flow from an effectful function\n",
    "    * `dockerFlow`, building a flow from a `DockerTaskConfig`\n",
    "\n",
    "<a name=\"to-flow\"></a>\n",
    "### `toFlow`: create a flow from a task\n",
    "To create a `Flow` value, you can use the function `toFlow`, which can be imported from the top level `Funflow` module and is defined in `Funflow.Flow`.\n",
    "Often a `Task` value will be the argument to `toFlow`, but really it could be anything of a type for which an `IsFlow` instance is available, as that's the class that declares `toFlow`. The resulting `Flow` value can then be composed with other flows into a larger, final `Flow` DAG.\n",
    "\n",
    "Here is a `Flow` that runs a `PureTask`, incrementing its input by 1."
   ],
   "metadata": {}
  },
  {
   "cell_type": "code",
   "execution_count": 1,
   "source": [
    "import Funflow (Flow, toFlow)\n",
    "import Funflow.Tasks.Simple (SimpleTask (PureTask))\n",
    "\n",
    "flow :: Flow Int Int\n",
    "flow = toFlow $ PureTask (+1)"
   ],
   "outputs": [],
   "metadata": {}
  },
  {
   "cell_type": "markdown",
   "source": [
    "In this example, `flow` is essentially a DAG with one node, `PureTask (+1)`. \n",
    "Here is a flow that runs a simple IO task which prints its input.\n",
    "\n",
    "```haskell\n",
    "flow :: Flow String ()\n",
    "flow = toFlow $ IOTask putStrLn\n",
    "```\n",
    "\n",
    "<a name=\"smart-ctors\"></a>\n",
    "### Smart constructors: create a flow from a function (or config value)\n",
    "A single-task `Flow` like the ones above can also be created directly with a smart constructor.\n",
    "For instance, instead of the previous, one can write:\n",
    "\n",
    "```haskell\n",
    "-- pure function, pure flow\n",
    "flow :: Flow Int Int\n",
    "flow = pureFlow (+1)\n",
    "```\n",
    "\n",
    "or\n",
    "\n",
    "```haskell\n",
    "-- impure function, IO flow\n",
    "flow :: Flow String ()\n",
    "flow = ioFlow putStrLn\n",
    "```\n",
    "\n",
    "An additional smart constructor, `dockerFlow`, is defined in `Funflow.Flow`.\n",
    "\n",
    "## Execute a flow\n",
    "\n",
    "Everything needed to run a flow is available in the module `Funflow.Run`.\n",
    "The function `runFlow` is the main way to do so:\n",
    "\n",
    "```haskell\n",
    "runFlow flow input\n",
    "```\n",
    "\n",
    "where\n",
    "\n",
    "- `flow` is the `Flow` to run\n",
    "- `input` is the input, with the same type as the input type of `flow`\n",
    "\n",
    "It will return a result of type `IO output` where `output` is the output type of `flow`.\n",
    "Let's run our flow from earlier:"
   ],
   "metadata": {}
  },
  {
   "cell_type": "code",
   "execution_count": 2,
   "source": [
    "import Funflow (runFlow)\n",
    "\n",
    "runFlow flow (1 :: Int) :: IO Int"
   ],
   "outputs": [
    {
     "output_type": "display_data",
     "data": {
      "text/plain": [
       "2"
      ]
     },
     "metadata": {}
    }
   ],
   "metadata": {}
  },
  {
   "cell_type": "markdown",
   "source": [
    "As expected, it returned 2.\n",
    "\n",
    "Astute readers may have noticed that the output of `runFlow` is of type `IO output` and not simply `output`.\n",
    "This wrapping of `output` in `IO` happens because `runFlow` uses a context to accommodate execution of any task type.\n",
    "Since `runFlow` supports IO and Docker tasks, ecah of which utilizes IO, the output of `runFlow` must also be wrapped by `IO`."
   ],
   "metadata": {}
  },
  {
   "cell_type": "markdown",
   "source": [
    "## Next Steps\n",
    "\n",
    "With the basics out of the way, you should be ready to write and run your first `Flow`!\n",
    "\n",
    "Check out the [wordcount flow tutorial](./WordCount.html) for a guided example."
   ],
   "metadata": {}
  }
 ],
 "metadata": {
  "kernelspec": {
   "display_name": "Haskell",
   "language": "haskell",
   "name": "haskell"
  },
  "language_info": {
   "codemirror_mode": "ihaskell",
   "file_extension": ".hs",
   "mimetype": "text/x-haskell",
   "name": "haskell",
   "pygments_lexer": "Haskell",
   "version": "8.6.5"
  }
 },
 "nbformat": 4,
 "nbformat_minor": 4
}