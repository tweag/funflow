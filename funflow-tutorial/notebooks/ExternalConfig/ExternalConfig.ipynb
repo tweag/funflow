{
 "cells": [
  {
   "cell_type": "markdown",
   "metadata": {},
   "source": [
    "# Configuration\n",
    "\n",
    "Funflow provides support for configuring a `Flow` via a YAML config file or environment variables. Support for automatically generated CLI flags is also planned but as of the writing of this tutorial has not been implemented.\n",
    "\n",
    "If a Task you are using contains a `Configurable` argument, when you write your `Flow` you will need to specify the configuration via one of three constructors: `Literal`, `ConfigFromEnv`, or `ConfigFromFile`. For example, the `args :: [Arg]` field of the `DockerTask` supports configurable args. Let's look at a few examples; first, here are the main imports and extensions we'll use."
   ]
  },
  {
   "cell_type": "code",
   "execution_count": 28,
   "metadata": {},
   "outputs": [],
   "source": [
    ":opt no-lint    -- Hide unused pragma warnings.\n",
    "\n",
    "{-# LANGUAGE FlexibleContexts #-}\n",
    "{-# LANGUAGE GADTs #-}\n",
    "-- Note: Using OverloadedStrings with DockerTask since it will automatically\n",
    "-- make sure that any `Literal` strings we write are of type `Arg`\n",
    "{-# LANGUAGE OverloadedStrings #-}\n",
    "{-# LANGUAGE QuasiQuotes #-}\n",
    "{-# LANGUAGE RankNTypes #-}\n",
    "\n",
    "import Control.Exception.Safe (StringException(..), try)\n",
    "import Control.Monad.Catch (handleIf)\n",
    "import Data.Maybe (fromMaybe, isJust, isNothing)\n",
    "\n",
    "import qualified Data.Map as Map\n",
    "import Path (Abs, Dir, File, Path, Rel, parseAbsDir, reldir, relfile, toFilePath, (</>))\n",
    "import System.Directory (getCurrentDirectory)\n",
    "import System.Environment (lookupEnv, setEnv, unsetEnv)\n",
    "\n",
    "import qualified Data.CAS.ContentStore as CS\n",
    "import Funflow\n",
    "import Funflow.Tasks.Docker\n",
    "import Funflow.Config (Configurable (Literal, ConfigFromFile, ConfigFromEnv))"
   ]
  },
  {
   "cell_type": "markdown",
   "metadata": {},
   "source": [
    "## Environment Variables"
   ]
  },
  {
   "cell_type": "code",
   "execution_count": 30,
   "metadata": {},
   "outputs": [],
   "source": [
    "flow1 = dockerFlow $ \n",
    "    DockerTaskConfig {\n",
    "        image=\"alpine:latest\",\n",
    "        command=\"echo\",\n",
    "        args=[\"this is a hard-coded literal value, the next value is:\", Arg $ ConfigFromEnv \"CONFIGURING_FLOWS\"]\n",
    "    }"
   ]
  },
  {
   "cell_type": "markdown",
   "metadata": {},
   "source": [
    "We've declared that our task will use two arguments: a literal value that will simply be `echo`ed back to us, and a value to be determined by an environment variables. Now we just need to set the `CONFIGURING_FLOWS` environment variable and run the task:"
   ]
  },
  {
   "cell_type": "code",
   "execution_count": 31,
   "metadata": {},
   "outputs": [
    {
     "data": {
      "text/plain": [
       "Found docker images, pulling...\n",
       "Pulling docker image: alpine:latest\n",
       "2021-05-28T15:22:27.349207985Z this is a hard-coded literal value, the next value is: hello from an environment variable!\n",
       "Item {itemHash = ContentHash \"e3b0c44298fc1c149afbf4c8996fb92427ae41e4649b934ca495991b7852b855\"}"
      ]
     },
     "metadata": {},
     "output_type": "display_data"
    }
   ],
   "source": [
    "setEnv \"CONFIGURING_FLOWS\" \"'hello from an environment variable!'\"\n",
    "\n",
    "runFlow flow1 DockerTaskInput {inputBindings = [], argsVals = mempty} :: IO (CS.Item)"
   ]
  },
  {
   "cell_type": "markdown",
   "metadata": {},
   "source": [
    "## YAML File\n",
    "To configure a task via config file, use the `ConfigFromFile` constructor and pass a file path to `runFlowWithConfig`."
   ]
  },
  {
   "cell_type": "code",
   "execution_count": 32,
   "metadata": {},
   "outputs": [],
   "source": [
    "getStoreAndConfig :: IO (Path Abs Dir, Path Abs File)\n",
    "getStoreAndConfig = do\n",
    "    cwd <- parseAbsDir =<< getCurrentDirectory\n",
    "    let storeDirPath = cwd </> [reldir|./.tmp/store|]\n",
    "        configFilePath = cwd </> [relfile|./flow.yaml|]\n",
    "    return (storeDirPath, configFilePath)\n",
    "    \n",
    "getTempRunConf :: IO RunFlowConfig\n",
    "getTempRunConf = (\\(d, f) -> RunFlowConfig{ configFile = Just f, storePath = d }) <$> getStoreAndConfig"
   ]
  },
  {
   "cell_type": "code",
   "execution_count": 44,
   "metadata": {},
   "outputs": [
    {
     "data": {
      "text/plain": [
       "[\"ourMessage: \\\"Hello from the flow.yaml\\\"\",\"ourOtherValue: 42\"]"
      ]
     },
     "metadata": {},
     "output_type": "display_data"
    }
   ],
   "source": [
    "-- Inspect the config file and create the related Arg.\n",
    "lines <$> ((toFilePath . snd <$> getStoreAndConfig) >>= readFile)\n",
    "goodFileArg = Arg $ ConfigFromFile \"ourMessage\""
   ]
  },
  {
   "cell_type": "code",
   "execution_count": 45,
   "metadata": {},
   "outputs": [],
   "source": [
    "-- helper to run flows for this section of the demo\n",
    "runWithEmptyInput :: [Arg] -> IO CS.Item\n",
    "runWithEmptyInput confArgs = \n",
    "    let taskConf = DockerTaskConfig{ image = \"alpine:latest\", command = \"echo\", args = confArgs }\n",
    "    in getTempRunConf >>= (\\runCfg -> runFlowWithConfig runCfg (dockerFlow taskConf) (mempty :: DockerTaskInput) )"
   ]
  },
  {
   "cell_type": "code",
   "execution_count": 46,
   "metadata": {},
   "outputs": [
    {
     "data": {
      "text/plain": [
       "Found docker images, pulling...\n",
       "Pulling docker image: alpine:latest\n",
       "2021-05-28T15:31:58.917237991Z Hello from the flow.yaml\n",
       "Item {itemHash = ContentHash \"e3b0c44298fc1c149afbf4c8996fb92427ae41e4649b934ca495991b7852b855\"}"
      ]
     },
     "metadata": {},
     "output_type": "display_data"
    }
   ],
   "source": [
    "runWithEmptyInput [goodFileArg]"
   ]
  },
  {
   "cell_type": "markdown",
   "metadata": {},
   "source": [
    "## Mixing `Configurable`s"
   ]
  },
  {
   "cell_type": "markdown",
   "metadata": {},
   "source": [
    "As noted, a `Configurable` argument may constructed one of three ways:\n",
    "* `Literal`\n",
    "* `ConfigFromEnv`\n",
    "* `ConfigFromFile`\n",
    "\n",
    "Since each yields a `Configurable a` value, though, we may mix these when we provide the `args` list to a task configuration."
   ]
  },
  {
   "cell_type": "code",
   "execution_count": 47,
   "metadata": {},
   "outputs": [
    {
     "data": {
      "text/plain": [
       "Found docker images, pulling...\n",
       "Pulling docker image: alpine:latest\n",
       "2021-05-28T15:33:28.990353768Z I'm a literal Hello from the flow.yaml\n",
       "Item {itemHash = ContentHash \"e3b0c44298fc1c149afbf4c8996fb92427ae41e4649b934ca495991b7852b855\"}"
      ]
     },
     "metadata": {},
     "output_type": "display_data"
    }
   ],
   "source": [
    "-- Mixing literal and file config\n",
    "runWithEmptyInput [\"I'm a literal\", goodFileArg]"
   ]
  },
  {
   "cell_type": "code",
   "execution_count": 48,
   "metadata": {},
   "outputs": [
    {
     "data": {
      "text/plain": [
       "Just \"I'm from an env var!\""
      ]
     },
     "metadata": {},
     "output_type": "display_data"
    }
   ],
   "source": [
    "setEnv \"SECOND_GREETING\" \"I'm from an env var!\"\n",
    "lookupEnv \"SECOND_GREETING\""
   ]
  },
  {
   "cell_type": "code",
   "execution_count": 49,
   "metadata": {},
   "outputs": [
    {
     "data": {
      "text/plain": [
       "Found docker images, pulling...\n",
       "Pulling docker image: alpine:latest\n",
       "2021-05-28T15:33:43.286166526Z Hello from the flow.yaml I'm from an env var!\n",
       "Item {itemHash = ContentHash \"e3b0c44298fc1c149afbf4c8996fb92427ae41e4649b934ca495991b7852b855\"}"
      ]
     },
     "metadata": {},
     "output_type": "display_data"
    }
   ],
   "source": [
    "-- Mixing config file and env var.\n",
    "runWithEmptyInput [goodFileArg, Arg $ ConfigFromEnv \"SECOND_GREETING\"]"
   ]
  },
  {
   "cell_type": "markdown",
   "metadata": {},
   "source": [
    "We can also mix `Placeholder`s with `Configurable`s:"
   ]
  },
  {
   "cell_type": "code",
   "execution_count": 51,
   "metadata": {},
   "outputs": [
    {
     "data": {
      "text/plain": [
       "Found docker images, pulling...\n",
       "Pulling docker image: alpine:latest\n",
       "2021-05-28T15:34:02.502614195Z Hello from the flow.yaml I'm from an env var! hello-from-placeholder\n",
       "Item {itemHash = ContentHash \"e3b0c44298fc1c149afbf4c8996fb92427ae41e4649b934ca495991b7852b855\"}"
      ]
     },
     "metadata": {},
     "output_type": "display_data"
    }
   ],
   "source": [
    "currArgs  = [goodFileArg, Arg $ ConfigFromEnv \"SECOND_GREETING\", Placeholder \"par3\"]\n",
    "currInput = DockerTaskInput{ inputBindings = [], argsVals = Map.fromList [(\"par3\", \"hello-from-placeholder\")] }\n",
    "taskConf  = DockerTaskConfig{ image = \"alpine:latest\", command = \"echo\", args = currArgs }\n",
    "getTempRunConf >>= (\\runCfg -> runFlowWithConfig runCfg (dockerFlow taskConf) currInput :: IO CS.Item)"
   ]
  },
  {
   "cell_type": "markdown",
   "metadata": {},
   "source": [
    "## _Safety for efficiency_: fail fast to avoid lost compute time and resources"
   ]
  },
  {
   "cell_type": "markdown",
   "metadata": {},
   "source": [
    "Another key point is that _configuration precedes execution_. This means if a failure is inevitable due to an incomplete or illegal configuration, we can _fail early_ by detecting that fact before we ever actually run anything. Here we set up simple examples to demonstrate, but imagine the time (and perhaps money!) that could be saved when failure would occur after a long-running computation."
   ]
  },
  {
   "cell_type": "markdown",
   "metadata": {},
   "source": [
    "### Argument configurability as a prerequisite for execution"
   ]
  },
  {
   "cell_type": "markdown",
   "metadata": {},
   "source": [
    "First, note that regardless of how an argument is constructed, execution requires a value for the argument (though for a `Literal` this is trivial.) To see this, we'll catch exceptions of type `StringException` since that's what should arise when a configuration is illegal or incomplete. Any other result will yield an alarming message. We thus define a helper:"
   ]
  },
  {
   "cell_type": "code",
   "execution_count": 52,
   "metadata": {},
   "outputs": [],
   "source": [
    "-- First, define a helper for running a simple echo command\n",
    "import Control.Exception (SomeException)\n",
    "\n",
    "runEcho1 :: Arg -> Maybe RunFlowConfig -> Maybe DockerTaskInput -> IO ()\n",
    "runEcho1 arg runConfOpt taskInOpt = \n",
    "    let taskConf  = DockerTaskConfig{ image = \"alpine:latest\", command = \"echo\", args = [arg] }\n",
    "        taskIn    = fromMaybe mempty taskInOpt\n",
    "        getStore  = (</> [reldir|./.tmp/store|]) <$> (getCurrentDirectory >>= parseAbsDir)\n",
    "        mkRunConf = case runConfOpt of \n",
    "            Nothing -> (\\s -> RunFlowConfig{ configFile = Nothing, storePath = s }) <$> getStore\n",
    "            Just rc -> pure rc\n",
    "    in do\n",
    "        runCfg <- mkRunConf\n",
    "        result <- try $ (runFlowWithConfig runCfg (dockerFlow taskConf) taskIn :: IO CS.Item)\n",
    "        case result of\n",
    "            Left (StringException msg _) -> putStrLn (\"Successfully caught exception: \" ++ msg)\n",
    "            Left ex                      -> putStrLn (\"Unexpected error: \" ++ show ex)\n",
    "            Right _                      -> putStrLn \"Unintended success :/\""
   ]
  },
  {
   "cell_type": "markdown",
   "metadata": {},
   "source": [
    "Note that this works when the argument is a literal, and we're simply echoed whatever we provide, and we'll get an \"unintended success\" message:"
   ]
  },
  {
   "cell_type": "code",
   "execution_count": 53,
   "metadata": {},
   "outputs": [
    {
     "data": {
      "text/plain": [
       "Found docker images, pulling...\n",
       "Pulling docker image: alpine:latest\n",
       "2021-05-28T16:04:02.774883070Z salut, funflow\n",
       "Unintended success :/"
      ]
     },
     "metadata": {},
     "output_type": "display_data"
    }
   ],
   "source": [
    "runEcho1 \"salut, funflow\" Nothing Nothing"
   ]
  },
  {
   "cell_type": "markdown",
   "metadata": {},
   "source": [
    "But if we set up an argument as a placeholder or as configurable by environment variable or configuration file, we will get an error when the argument can't be configured:"
   ]
  },
  {
   "cell_type": "code",
   "execution_count": 54,
   "metadata": {},
   "outputs": [
    {
     "data": {
      "text/plain": [
       "True"
      ]
     },
     "metadata": {},
     "output_type": "display_data"
    }
   ],
   "source": [
    "-- Set up env var config failure.\n",
    "isNothing <$> lookupEnv \"MY_TMP_EV\""
   ]
  },
  {
   "cell_type": "code",
   "execution_count": 55,
   "metadata": {},
   "outputs": [
    {
     "data": {
      "text/plain": [
       "Successfully caught exception: Missing the following required config keys: [\"MY_TMP_EV\"]"
      ]
     },
     "metadata": {},
     "output_type": "display_data"
    }
   ],
   "source": [
    "-- failure from environment variable\n",
    "runEcho1 (Arg $ ConfigFromEnv \"MY_TMP_EV\") Nothing Nothing"
   ]
  },
  {
   "cell_type": "code",
   "execution_count": 56,
   "metadata": {},
   "outputs": [
    {
     "data": {
      "text/plain": [
       "[\"ourMessage: \\\"Hello from the flow.yaml\\\"\",\"ourOtherValue: 42\"]\n",
       "Successfully caught exception: Missing the following required config keys: [\"MY_TMP_EV\"]"
      ]
     },
     "metadata": {},
     "output_type": "display_data"
    }
   ],
   "source": [
    "-- failure from file configurable\n",
    "do\n",
    "    (d, f) <- getStoreAndConfig\n",
    "    readFile (toFilePath f) >>= print . lines\n",
    "    runEcho1 (Arg $ ConfigFromFile \"MY_TMP_EV\") (Just RunFlowConfig{ configFile = Just f, storePath = d }) Nothing"
   ]
  },
  {
   "cell_type": "code",
   "execution_count": 57,
   "metadata": {},
   "outputs": [
    {
     "data": {
      "text/plain": [
       "Found docker images, pulling...\n",
       "Pulling docker image: alpine:latest\n",
       "Successfully caught exception: Docker task failed with configuration errors: [\"Unfilled labelWONT_BE_FILLED\"]"
      ]
     },
     "metadata": {},
     "output_type": "display_data"
    }
   ],
   "source": [
    "-- failure from placeholder\n",
    "runEcho1 (Placeholder \"WONT_BE_FILLED\") Nothing (Just DockerTaskInput{ inputBindings = [], argsVals = mempty })"
   ]
  },
  {
   "cell_type": "markdown",
   "metadata": {},
   "source": [
    "When the argument _can_ be configured, though, as expected there's no issue:"
   ]
  },
  {
   "cell_type": "code",
   "execution_count": 60,
   "metadata": {},
   "outputs": [
    {
     "data": {
      "text/plain": [
       "Found docker images, pulling...\n",
       "Pulling docker image: alpine:latest\n",
       "2021-05-28T16:06:33.583936080Z surprise!\n",
       "Unintended success :/"
      ]
     },
     "metadata": {},
     "output_type": "display_data"
    }
   ],
   "source": [
    "-- now the positive case, to show that the error catch is specific to an actual error and doesn't just occur generally\n",
    "runEcho1 (Placeholder \"WONT_BE_FILLED\") Nothing (Just DockerTaskInput{ inputBindings = [], argsVals = Map.fromList [(\"WONT_BE_FILLED\", \"surprise!\")] })"
   ]
  },
  {
   "cell_type": "markdown",
   "metadata": {},
   "source": [
    "### _No partial execution_: argument configurability requirement is total."
   ]
  },
  {
   "cell_type": "code",
   "execution_count": 62,
   "metadata": {},
   "outputs": [
    {
     "data": {
      "text/plain": [
       "True"
      ]
     },
     "metadata": {},
     "output_type": "display_data"
    }
   ],
   "source": [
    "-- Set stage for config-time error.\n",
    "unsetEnv \"SECOND_GREETING\"\n",
    "isNothing <$> lookupEnv \"SECOND_GREETING\""
   ]
  },
  {
   "cell_type": "code",
   "execution_count": 63,
   "metadata": {},
   "outputs": [
    {
     "data": {
      "text/plain": [
       "Caught error: Missing the following required config keys: [\"SECOND_GREETING\"]"
      ]
     },
     "metadata": {},
     "output_type": "display_data"
    }
   ],
   "source": [
    "-- Trigger a config-time error.\n",
    "do\n",
    "    res <- try (runWithEmptyInput [goodFileArg, Arg $ ConfigFromEnv \"SECOND_GREETING\"])\n",
    "    case res of \n",
    "        Left (StringException msg _) -> putStrLn (\"Caught error: \" ++ msg)\n",
    "        Right _ -> error \"Unexpected success!\""
   ]
  },
  {
   "cell_type": "markdown",
   "metadata": {},
   "source": [
    "Note here that rather execution fails right away (in fact, as the flow is configuring the task, before any execution really begins).\n",
    "More specifically, rather first `echo`ing the value that our config file assigns to `\"ourMessage\"`, the flow catches the error before any action occurs (i.e., when the underlying task is configured, rather than as it's running)."
   ]
  },
  {
   "cell_type": "markdown",
   "metadata": {},
   "source": [
    "## Configuration is dynamic and prompted by a run attempt, not static and fixed by construction."
   ]
  },
  {
   "cell_type": "markdown",
   "metadata": {},
   "source": [
    "Also important is that _configuration is dynamic_. Although task execution is decoupled from configuration, a new run triggers a fresh interpretation, which\n",
    "allows a flow's configuration to be reconsidered before it's run again. "
   ]
  },
  {
   "cell_type": "code",
   "execution_count": 64,
   "metadata": {},
   "outputs": [
    {
     "data": {
      "text/plain": [
       "True"
      ]
     },
     "metadata": {},
     "output_type": "display_data"
    }
   ],
   "source": [
    "-- pretest\n",
    "unsetEnv \"NOT_STATIC\"\n",
    "isNothing <$> lookupEnv \"NOT_STATIC\""
   ]
  },
  {
   "cell_type": "code",
   "execution_count": 65,
   "metadata": {},
   "outputs": [],
   "source": [
    "type DockFlow = Flow DockerTaskInput CS.Item\n",
    "\n",
    "-- First, a little helper to run flows for this demo\n",
    "runDynaDemo :: DockFlow -> IO ()\n",
    "runDynaDemo currFlow = do\n",
    "    (s, _) <- getStoreAndConfig\n",
    "    result <- try ( runFlowWithConfig RunFlowConfig{ configFile = Nothing, storePath = s } currFlow (mempty :: DockerTaskInput) :: IO CS.Item )\n",
    "    case result of\n",
    "        Left (StringException msg _) -> putStrLn (\"flow failed: \" ++ msg)\n",
    "        Right _                      -> putStrLn \"flow succeeded!\""
   ]
  },
  {
   "cell_type": "code",
   "execution_count": 66,
   "metadata": {},
   "outputs": [],
   "source": [
    "-- Build the flow that will first fail, then succeed.\n",
    "dynaFlow = dockerFlow DockerTaskConfig{ image = \"alpine:latest\", command = \"echo\", args = [Arg $ ConfigFromEnv \"NOT_STATIC\"] }"
   ]
  },
  {
   "cell_type": "code",
   "execution_count": 67,
   "metadata": {},
   "outputs": [
    {
     "data": {
      "text/plain": [
       "flow failed: Missing the following required config keys: [\"NOT_STATIC\"]"
      ]
     },
     "metadata": {},
     "output_type": "display_data"
    }
   ],
   "source": [
    "runDynaDemo dynaFlow"
   ]
  },
  {
   "cell_type": "code",
   "execution_count": 68,
   "metadata": {},
   "outputs": [
    {
     "data": {
      "text/plain": [
       "True"
      ]
     },
     "metadata": {},
     "output_type": "display_data"
    }
   ],
   "source": [
    "setEnv \"NOT_STATIC\" \"works now!\"\n",
    "isJust <$> lookupEnv \"NOT_STATIC\""
   ]
  },
  {
   "cell_type": "code",
   "execution_count": 69,
   "metadata": {},
   "outputs": [
    {
     "data": {
      "text/plain": [
       "Found docker images, pulling...\n",
       "Pulling docker image: alpine:latest\n",
       "2021-05-28T16:07:44.371564499Z works now!\n",
       "flow succeeded!"
      ]
     },
     "metadata": {},
     "output_type": "display_data"
    }
   ],
   "source": [
    "runDynaDemo dynaFlow"
   ]
  },
  {
   "cell_type": "markdown",
   "metadata": {},
   "source": [
    "Besides its own practical value, this property strengthens the equivalence of functionality between files and environment variables with respect to filling configurables. Namely, each `runWithConfigFile` provides an opportunity for different configuration through `RunFlowConfig`, so it's natural for any configuration that's influenced by environment variables to be reconsidered on a per-run basis."
   ]
  }
 ],
 "metadata": {
  "kernelspec": {
   "display_name": "Haskell - haskell",
   "language": "haskell",
   "name": "ihaskell_haskell"
  },
  "language_info": {
   "codemirror_mode": "Haskell",
   "file_extension": ".hs",
   "mimetype": "text/x-haskell",
   "name": "haskell",
   "pygments_lexer": "Haskell",
   "version": "8.10.7"
  }
 },
 "nbformat": 4,
 "nbformat_minor": 4
}
